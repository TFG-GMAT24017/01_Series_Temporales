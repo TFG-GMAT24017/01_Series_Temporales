{
 "cells": [
  {
   "cell_type": "code",
   "execution_count": 1,
   "id": "457196f1",
   "metadata": {},
   "outputs": [],
   "source": [
    "import pandas as pd"
   ]
  },
  {
   "cell_type": "code",
   "execution_count": 2,
   "id": "6e01f83c",
   "metadata": {},
   "outputs": [
    {
     "data": {
      "text/plain": [
       "Date\n",
       "1980-01-01    6666.1478\n",
       "1980-01-02    7858.5535\n",
       "1980-01-03    8180.7627\n",
       "1980-01-04    8178.1648\n",
       "1980-01-05    7385.6825\n",
       "Freq: D, Name: EU27, dtype: float64"
      ]
     },
     "execution_count": 2,
     "metadata": {},
     "output_type": "execute_result"
    }
   ],
   "source": [
    "serie_demanda = pd.read_csv('datos_Demanda_EU27_GWh.csv', index_col=0, parse_dates=True)['EU27']\n",
    "serie_demanda = serie_demanda.asfreq('D')\n",
    "\n",
    "serie_demanda.head()"
   ]
  },
  {
   "cell_type": "code",
   "execution_count": 3,
   "id": "5fb3374d",
   "metadata": {},
   "outputs": [],
   "source": [
    "serie_demanda.to_csv('data_serie_demanda_EU27_GWh.csv', index=True, header=True)"
   ]
  },
  {
   "cell_type": "code",
   "execution_count": 4,
   "id": "8a17d9ba",
   "metadata": {},
   "outputs": [],
   "source": [
    "serie_oferta = pd.read_csv('../data/datos_Oferta_Renovables_EU27_GWh.csv', index_col=0, parse_dates=True)['EU27']\n",
    "serie_oferta= serie_oferta.asfreq('D')\n",
    "\n",
    "serie_oferta.to_csv('data_serie_oferta_EU27_GWh.csv', index=True, header=True)"
   ]
  }
 ],
 "metadata": {
  "kernelspec": {
   "display_name": "analisis_datos_3.10",
   "language": "python",
   "name": "python3"
  },
  "language_info": {
   "codemirror_mode": {
    "name": "ipython",
    "version": 3
   },
   "file_extension": ".py",
   "mimetype": "text/x-python",
   "name": "python",
   "nbconvert_exporter": "python",
   "pygments_lexer": "ipython3",
   "version": "3.10.13"
  }
 },
 "nbformat": 4,
 "nbformat_minor": 5
}
