{
 "cells": [
  {
   "cell_type": "code",
   "execution_count": 2,
   "id": "70a7fb59",
   "metadata": {},
   "outputs": [],
   "source": [
    "import pandas as pd\n",
    "import numpy as np"
   ]
  },
  {
   "cell_type": "code",
   "execution_count": 3,
   "id": "0bcb0c15",
   "metadata": {},
   "outputs": [],
   "source": [
    "# importar datos de oferta y demanda\n",
    "df_dem_MWh = pd.read_csv('datos_Demanda_EU27_MWh.csv', index_col=0, parse_dates=True)\n",
    "df_of_MWh = pd.read_csv('datos_Oferta_Renovables_EU27_MWh.csv', index_col=0, parse_dates=True)"
   ]
  },
  {
   "cell_type": "code",
   "execution_count": 5,
   "id": "ba9afe43",
   "metadata": {},
   "outputs": [],
   "source": [
    "df_dem_GWh = df_dem_MWh /1000\n",
    "df_of_GWh = df_of_MWh /1000\n"
   ]
  },
  {
   "cell_type": "code",
   "execution_count": 6,
   "id": "e7cb156a",
   "metadata": {},
   "outputs": [],
   "source": [
    "df_dem_GWh.to_csv('datos_Demanda_EU27_GWh.csv', index=True)\n",
    "df_of_GWh.to_csv('datos_Oferta_Renovables_EU27_GWh.csv', index=True)"
   ]
  }
 ],
 "metadata": {
  "kernelspec": {
   "display_name": "analisis_datos_3.10",
   "language": "python",
   "name": "python3"
  },
  "language_info": {
   "codemirror_mode": {
    "name": "ipython",
    "version": 3
   },
   "file_extension": ".py",
   "mimetype": "text/x-python",
   "name": "python",
   "nbconvert_exporter": "python",
   "pygments_lexer": "ipython3",
   "version": "3.10.13"
  }
 },
 "nbformat": 4,
 "nbformat_minor": 5
}
